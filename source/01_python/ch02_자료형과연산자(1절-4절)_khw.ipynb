{
 "cells": [
  {
   "cell_type": "code",
   "execution_count": 1,
   "id": "2e7b98ac",
   "metadata": {},
   "outputs": [
    {
     "data": {
      "text/html": [
       "\n",
       "<style>\n",
       "div.container{width:86% !important;}\n",
       "div.cell.code_cell.rendered{width:100%;}\n",
       "div.CodeMirror {font-family:Consolas; font-size:15pt;}\n",
       "div.output {font-size:15pt; font-weight:bold;}\n",
       "div.input {font-family:Consolas; font-size:15pt;}\n",
       "div.prompt {min-width:70px;}\n",
       "div#toc-wrapper{padding-top:120px;}\n",
       "div.text_cell_render ul li{font-size:12pt;padding:5px;}\n",
       "table.dataframe{font-size:15px;}\n",
       "</style>\n"
      ],
      "text/plain": [
       "<IPython.core.display.HTML object>"
      ]
     },
     "metadata": {},
     "output_type": "display_data"
    }
   ],
   "source": [
    "from IPython.display import display, HTML\n",
    "display(HTML(\"\"\"\n",
    "<style>\n",
    "div.container{width:86% !important;}\n",
    "div.cell.code_cell.rendered{width:100%;}\n",
    "div.CodeMirror {font-family:Consolas; font-size:15pt;}\n",
    "div.output {font-size:15pt; font-weight:bold;}\n",
    "div.input {font-family:Consolas; font-size:15pt;}\n",
    "div.prompt {min-width:70px;}\n",
    "div#toc-wrapper{padding-top:120px;}\n",
    "div.text_cell_render ul li{font-size:12pt;padding:5px;}\n",
    "table.dataframe{font-size:15px;}\n",
    "</style>\n",
    "\"\"\"))"
   ]
  },
  {
   "cell_type": "markdown",
   "id": "aedf9439",
   "metadata": {},
   "source": [
    "<font size=\"5\" color=\"red\">ch02 자료형과 연산자</font>\n",
    "# 1절 변수\n",
    " - 파이썬은 변수 선언을 위한 과정이 없음. 할당과 동시에 타입이 지정되고 값이 할당됨.\n",
    " \n",
    "## 1.1 변수 할당\n",
    " - 할당연산자(=) 를 이용해서 값을 할당하면 타입이 셋팅됨.\n",
    " - 파이썬에서의 모든 변수는 객체로 저장됨."
   ]
  },
  {
   "cell_type": "code",
   "execution_count": 8,
   "id": "97f40743",
   "metadata": {},
   "outputs": [
    {
     "name": "stdout",
     "output_type": "stream",
     "text": [
      "계산된 넓이는  78.5\n"
     ]
    }
   ],
   "source": [
    "r = 5\n",
    "area = 3.14 * r * r\n",
    "print(\"계산된 넓이는 \", area)"
   ]
  },
  {
   "cell_type": "code",
   "execution_count": 9,
   "id": "b99e0e2d",
   "metadata": {},
   "outputs": [
    {
     "name": "stdout",
     "output_type": "stream",
     "text": [
      "area = 78.53981633974483\n"
     ]
    }
   ],
   "source": [
    "import numpy as np\n",
    "area = np.pi * r * r\n",
    "print(\"area =\", area)"
   ]
  },
  {
   "cell_type": "code",
   "execution_count": 10,
   "id": "67ea8b9c",
   "metadata": {},
   "outputs": [
    {
     "data": {
      "text/plain": [
       "False"
      ]
     },
     "execution_count": 10,
     "metadata": {},
     "output_type": "execute_result"
    }
   ],
   "source": [
    "area.is_integer() # area 가 integer 인지 여부를 반환"
   ]
  },
  {
   "cell_type": "code",
   "execution_count": 11,
   "id": "d149ab66",
   "metadata": {},
   "outputs": [
    {
     "name": "stdout",
     "output_type": "stream",
     "text": [
      "area의 주소 : 2397713987504\n",
      "area의 타입 : <class 'float'>\n"
     ]
    }
   ],
   "source": [
    "print('area의 주소 :', id(area))\n",
    "print('area의 타입 :', type(area))"
   ]
  },
  {
   "cell_type": "code",
   "execution_count": 12,
   "id": "61bf9b31",
   "metadata": {},
   "outputs": [
    {
     "name": "stdout",
     "output_type": "stream",
     "text": [
      "area의 주소 : 2397717011984\n",
      "area의 타입 : <class 'float'>\n"
     ]
    }
   ],
   "source": [
    "area = 5.5\n",
    "print('area의 주소 :', id(area))\n",
    "print('area의 타입 :', type(area))"
   ]
  },
  {
   "cell_type": "code",
   "execution_count": 13,
   "id": "8609d64f",
   "metadata": {},
   "outputs": [
    {
     "name": "stdout",
     "output_type": "stream",
     "text": [
      "area의 주소 : 2397606904336\n",
      "area의 타입 : <class 'int'>\n"
     ]
    }
   ],
   "source": [
    "area = 10\n",
    "print('area의 주소 :', id(area))\n",
    "print('area의 타입 :', type(area))"
   ]
  },
  {
   "cell_type": "code",
   "execution_count": 14,
   "id": "1cdd0047",
   "metadata": {},
   "outputs": [
    {
     "name": "stdout",
     "output_type": "stream",
     "text": [
      "area의 주소 : 2397718580944\n",
      "area의 타입 : <class 'str'>\n"
     ]
    }
   ],
   "source": [
    "area = \"파이썬\"\n",
    "print('area의 주소 :', id(area))\n",
    "print('area의 타입 :', type(area))"
   ]
  },
  {
   "cell_type": "markdown",
   "id": "5813e5dc",
   "metadata": {},
   "source": [
    "## 1.2 변수이름 규칙\n",
    "- 문자로 시작 (숫자시작 X)\n",
    "- 문자, 숫자, _로 변수명 작성 가능\n",
    "- 함수명은 변수이름으로 가능하나 피한다. 써야 한다면 int_, print_ 식으로 _를 이용\n",
    "- 파이썬 예약어는 (for, ..) 변수이름 사용 불가\n",
    "- 한글 변수는 꼭 필요시에만 이용"
   ]
  },
  {
   "cell_type": "code",
   "execution_count": 15,
   "id": "340fba68",
   "metadata": {},
   "outputs": [
    {
     "name": "stdout",
     "output_type": "stream",
     "text": [
      "홍길동\n"
     ]
    }
   ],
   "source": [
    "이름 = \"홍길동\"\n",
    "print(이름)"
   ]
  },
  {
   "cell_type": "code",
   "execution_count": 16,
   "id": "0a13bfdf",
   "metadata": {},
   "outputs": [
    {
     "data": {
      "text/plain": [
       "'홍길동'"
      ]
     },
     "execution_count": 16,
     "metadata": {},
     "output_type": "execute_result"
    }
   ],
   "source": [
    "이름"
   ]
  },
  {
   "cell_type": "code",
   "execution_count": 17,
   "id": "da2e2551",
   "metadata": {},
   "outputs": [
    {
     "ename": "SyntaxError",
     "evalue": "invalid syntax (3039934606.py, line 1)",
     "output_type": "error",
     "traceback": [
      "\u001b[1;36m  Cell \u001b[1;32mIn[17], line 1\u001b[1;36m\u001b[0m\n\u001b[1;33m    for = 5\u001b[0m\n\u001b[1;37m        ^\u001b[0m\n\u001b[1;31mSyntaxError\u001b[0m\u001b[1;31m:\u001b[0m invalid syntax\n"
     ]
    }
   ],
   "source": [
    "for = 5"
   ]
  },
  {
   "cell_type": "code",
   "execution_count": 18,
   "id": "06e42607",
   "metadata": {},
   "outputs": [
    {
     "ename": "NameError",
     "evalue": "name 'member' is not defined",
     "output_type": "error",
     "traceback": [
      "\u001b[1;31m---------------------------------------------------------------------------\u001b[0m",
      "\u001b[1;31mNameError\u001b[0m                                 Traceback (most recent call last)",
      "Cell \u001b[1;32mIn[18], line 1\u001b[0m\n\u001b[1;32m----> 1\u001b[0m \u001b[43mmember\u001b[49m\u001b[38;5;241m.\u001b[39mname \u001b[38;5;241m=\u001b[39m \u001b[38;5;124m\"\u001b[39m\u001b[38;5;124m홍길동\u001b[39m\u001b[38;5;124m\"\u001b[39m\n\u001b[0;32m      2\u001b[0m member_name \u001b[38;5;241m=\u001b[39m \u001b[38;5;124m\"\u001b[39m\u001b[38;5;124m홍길동\u001b[39m\u001b[38;5;124m\"\u001b[39m\n\u001b[0;32m      3\u001b[0m memberName \u001b[38;5;241m=\u001b[39m \u001b[38;5;124m\"\u001b[39m\u001b[38;5;124m홍길동\u001b[39m\u001b[38;5;124m\"\u001b[39m\n",
      "\u001b[1;31mNameError\u001b[0m: name 'member' is not defined"
     ]
    }
   ],
   "source": [
    "member.name = \"홍길동\"\n",
    "member_name = \"홍길동\"\n",
    "memberName = \"홍길동\""
   ]
  },
  {
   "cell_type": "code",
   "execution_count": 19,
   "id": "fb82fe9f",
   "metadata": {},
   "outputs": [
    {
     "name": "stdout",
     "output_type": "stream",
     "text": [
      "10\n"
     ]
    }
   ],
   "source": [
    "Print = 10 # 대문자로 시작한 변수, 함수명의 변수는 안됨\n",
    "print(Print)"
   ]
  },
  {
   "cell_type": "code",
   "execution_count": 20,
   "id": "5af9c29b",
   "metadata": {},
   "outputs": [
    {
     "data": {
      "text/plain": [
       "complex"
      ]
     },
     "execution_count": 20,
     "metadata": {},
     "output_type": "execute_result"
    }
   ],
   "source": [
    "# 파이썬에서의 숫자 : 정수, 실수, 복소수\n",
    "i = 3 +3j # 복소수\n",
    "type(i)"
   ]
  },
  {
   "cell_type": "code",
   "execution_count": 21,
   "id": "3f7cb831",
   "metadata": {},
   "outputs": [
    {
     "data": {
      "text/plain": [
       "True"
      ]
     },
     "execution_count": 21,
     "metadata": {},
     "output_type": "execute_result"
    }
   ],
   "source": [
    "isinstance(i, complex) # i 변수(객체) 가 complex인지 여부"
   ]
  },
  {
   "cell_type": "markdown",
   "id": "99f3d8df",
   "metadata": {},
   "source": [
    "## 1.3 도움말"
   ]
  },
  {
   "cell_type": "code",
   "execution_count": 22,
   "id": "6a4988bd",
   "metadata": {},
   "outputs": [
    {
     "name": "stdout",
     "output_type": "stream",
     "text": [
      "\n",
      "Welcome to Python 3.10's help utility!\n",
      "\n",
      "If this is your first time using Python, you should definitely check out\n",
      "the tutorial on the internet at https://docs.python.org/3.10/tutorial/.\n",
      "\n",
      "Enter the name of any module, keyword, or topic to get help on writing\n",
      "Python programs and using Python modules.  To quit this help utility and\n",
      "return to the interpreter, just type \"quit\".\n",
      "\n",
      "To get a list of available modules, keywords, symbols, or topics, type\n",
      "\"modules\", \"keywords\", \"symbols\", or \"topics\".  Each module also comes\n",
      "with a one-line summary of what it does; to list the modules whose name\n",
      "or summary contain a given string such as \"spam\", type \"modules spam\".\n",
      "\n",
      "help> \n",
      "\n",
      "You are now leaving help and returning to the Python interpreter.\n",
      "If you want to ask for help on a particular object directly from the\n",
      "interpreter, you can type \"help(object)\".  Executing \"help('string')\"\n",
      "has the same effect as typing a particular string at the help> prompt.\n"
     ]
    }
   ],
   "source": [
    "help() # help 빠져나올 시 q 입력"
   ]
  },
  {
   "cell_type": "code",
   "execution_count": 23,
   "id": "c1281c61",
   "metadata": {},
   "outputs": [
    {
     "name": "stdout",
     "output_type": "stream",
     "text": [
      "\n"
     ]
    }
   ],
   "source": [
    "# 도움말 기능 : shift + tap + tap 키\n",
    "print()"
   ]
  },
  {
   "cell_type": "code",
   "execution_count": 24,
   "id": "9ce054d0",
   "metadata": {},
   "outputs": [
    {
     "ename": "NameError",
     "evalue": "name 'print' is not defined",
     "output_type": "error",
     "traceback": [
      "\u001b[1;31m---------------------------------------------------------------------------\u001b[0m",
      "\u001b[1;31mNameError\u001b[0m                                 Traceback (most recent call last)",
      "Cell \u001b[1;32mIn[24], line 1\u001b[0m\n\u001b[1;32m----> 1\u001b[0m \u001b[38;5;28;01mdel\u001b[39;00m \u001b[38;5;28mprint\u001b[39m\n",
      "\u001b[1;31mNameError\u001b[0m: name 'print' is not defined"
     ]
    }
   ],
   "source": [
    "del print        # print를 변수로 사용하\n",
    "\n",
    "\n",
    "\n",
    "\n",
    "\n",
    "\n",
    "\n",
    "\n",
    "\n",
    "\n",
    "\n",
    "print함수와 중복이기 때문에 print문 오류가 발생. "
   ]
  },
  {
   "cell_type": "code",
   "execution_count": 25,
   "id": "0b0fd0ea",
   "metadata": {},
   "outputs": [],
   "source": [
    "def add(x, y=0):\n",
    "    '''\n",
    "    매개변수\n",
    "    x= 10의 자리\n",
    "    y=  1의 자리\n",
    "    '''\n",
    "    return x*10 + y"
   ]
  },
  {
   "cell_type": "code",
   "execution_count": 26,
   "id": "82561060",
   "metadata": {},
   "outputs": [
    {
     "data": {
      "text/plain": [
       "21"
      ]
     },
     "execution_count": 26,
     "metadata": {},
     "output_type": "execute_result"
    }
   ],
   "source": [
    "add(2, 1)"
   ]
  },
  {
   "cell_type": "code",
   "execution_count": 27,
   "id": "1161ac67",
   "metadata": {},
   "outputs": [
    {
     "data": {
      "text/plain": [
       "20"
      ]
     },
     "execution_count": 27,
     "metadata": {},
     "output_type": "execute_result"
    }
   ],
   "source": [
    "add(2)"
   ]
  },
  {
   "cell_type": "code",
   "execution_count": 28,
   "id": "929e8217",
   "metadata": {},
   "outputs": [
    {
     "data": {
      "text/plain": [
       "23"
      ]
     },
     "execution_count": 28,
     "metadata": {},
     "output_type": "execute_result"
    }
   ],
   "source": [
    "a = add\n",
    "a(2, 3)"
   ]
  },
  {
   "cell_type": "markdown",
   "id": "f525ddbd",
   "metadata": {},
   "source": [
    "## 1.4 다중 변수 할당"
   ]
  },
  {
   "cell_type": "code",
   "execution_count": 29,
   "id": "0ce1ca16",
   "metadata": {},
   "outputs": [],
   "source": [
    "a = 10\n",
    "b = 20"
   ]
  },
  {
   "cell_type": "code",
   "execution_count": 30,
   "id": "3e6a797d",
   "metadata": {
    "scrolled": true
   },
   "outputs": [
    {
     "name": "stdout",
     "output_type": "stream",
     "text": [
      "10 20\n"
     ]
    }
   ],
   "source": [
    "a, b = 10, 20\n",
    "print(a, b)"
   ]
  },
  {
   "cell_type": "code",
   "execution_count": 31,
   "id": "78479c62",
   "metadata": {},
   "outputs": [
    {
     "name": "stdout",
     "output_type": "stream",
     "text": [
      "20 30\n"
     ]
    }
   ],
   "source": [
    "# 다중 변수 할당시 순차적 할당이 아니라, 일괄 동시 할당\n",
    "a, b = b, a+b\n",
    "print(a, b)"
   ]
  },
  {
   "cell_type": "markdown",
   "id": "faddf22c",
   "metadata": {},
   "source": [
    "# 2절. 화면입출력 (i/o)"
   ]
  },
  {
   "cell_type": "code",
   "execution_count": 32,
   "id": "4a532751",
   "metadata": {},
   "outputs": [
    {
     "name": "stdout",
     "output_type": "stream",
     "text": [
      "첫번째 숫자는? 5\n"
     ]
    },
    {
     "data": {
      "text/plain": [
       "'5'"
      ]
     },
     "execution_count": 32,
     "metadata": {},
     "output_type": "execute_result"
    }
   ],
   "source": [
    "# input() : 사용자로부터 값을 입력 받기 위한 함수. 문자열로 입력\n",
    "first = input(\"첫번째 숫자는? \")\n",
    "first"
   ]
  },
  {
   "cell_type": "code",
   "execution_count": 33,
   "id": "267dd861",
   "metadata": {},
   "outputs": [
    {
     "name": "stdout",
     "output_type": "stream",
     "text": [
      "두번째 숫자는? 2\n"
     ]
    },
    {
     "data": {
      "text/plain": [
       "'2'"
      ]
     },
     "execution_count": 33,
     "metadata": {},
     "output_type": "execute_result"
    }
   ],
   "source": [
    "second = input(\"두번째 숫자는? \")\n",
    "second"
   ]
  },
  {
   "cell_type": "code",
   "execution_count": 34,
   "id": "e8ad9c6c",
   "metadata": {},
   "outputs": [
    {
     "name": "stdout",
     "output_type": "stream",
     "text": [
      "합 7\n"
     ]
    }
   ],
   "source": [
    "sum = int(first) + int(second)\n",
    "print('합', sum)"
   ]
  },
  {
   "cell_type": "code",
   "execution_count": 36,
   "id": "ecf6c5ab",
   "metadata": {},
   "outputs": [
    {
     "name": "stdout",
     "output_type": "stream",
     "text": [
      "첫번째 수는?5\n",
      "두번째 수는?2\n",
      "합 7\n"
     ]
    }
   ],
   "source": [
    "first = int(input('첫번째 수는?'))\n",
    "second = int(input('두번째 수는?'))\n",
    "sum = first + second\n",
    "print('합', sum)"
   ]
  },
  {
   "cell_type": "code",
   "execution_count": 48,
   "id": "6cbe9048",
   "metadata": {
    "scrolled": true
   },
   "outputs": [
    {
     "name": "stdout",
     "output_type": "stream",
     "text": [
      "합 = 7 / 합 ~ 7 / 합은 7\n"
     ]
    }
   ],
   "source": [
    "print('합', sum, sep=' = ' , end=' / ')\n",
    "print('합', sum, sep=' ~ ', end=' / ')\n",
    "print('합', sum, sep='은 ')"
   ]
  },
  {
   "cell_type": "code",
   "execution_count": 41,
   "id": "807349be",
   "metadata": {},
   "outputs": [
    {
     "name": "stdout",
     "output_type": "stream",
     "text": [
      "hello, world\n"
     ]
    }
   ],
   "source": [
    "import sys\n",
    "print('hello', 'world', sep=\", \" , file=sys.stdout)"
   ]
  },
  {
   "cell_type": "markdown",
   "id": "4b58ebbf",
   "metadata": {},
   "source": [
    "# 3절. 기본 자료형\n",
    "- 자료형에 따라 값의 크기와 저장방식이 달리짐.\n",
    "    - 숫자 : int, float, complex\n",
    "    - 문자 : str\n",
    "    - 논리 : bool(True/False)\n",
    "    \n",
    "\n",
    "## 3.1 숫자형\n",
    "\n"
   ]
  },
  {
   "cell_type": "code",
   "execution_count": 49,
   "id": "fdcab80d",
   "metadata": {},
   "outputs": [
    {
     "data": {
      "text/plain": [
       "9223372036854775807"
      ]
     },
     "execution_count": 49,
     "metadata": {},
     "output_type": "execute_result"
    }
   ],
   "source": [
    "import sys\n",
    "sys.maxsize # 정수의 최대값 2의 63승-1 (2**63 -1)"
   ]
  },
  {
   "cell_type": "code",
   "execution_count": 52,
   "id": "a01f7e4f",
   "metadata": {},
   "outputs": [
    {
     "name": "stdout",
     "output_type": "stream",
     "text": [
      "9223372036854776807\n",
      "<class 'int'>\n"
     ]
    }
   ],
   "source": [
    "i = sys.maxsize + 1000\n",
    "print(i)f\n",
    "print(type(i))"
   ]
  },
  {
   "cell_type": "code",
   "execution_count": 53,
   "id": "29568223",
   "metadata": {},
   "outputs": [
    {
     "data": {
      "text/plain": [
       "2.0"
      ]
     },
     "execution_count": 53,
     "metadata": {},
     "output_type": "execute_result"
    }
   ],
   "source": [
    "f = 4/2 # 정수 / 정수는 무조건 실수\n",
    "f"
   ]
  },
  {
   "cell_type": "code",
   "execution_count": 56,
   "id": "47d24265",
   "metadata": {},
   "outputs": [
    {
     "name": "stdout",
     "output_type": "stream",
     "text": [
      "2\n",
      "2\n"
     ]
    }
   ],
   "source": [
    "# 자바처럼 정수 / 정수의 결과를 정수를 원할 시\n",
    "f = 4//2  # 몫연산자\n",
    "print(f)\n",
    "f = int(4/2)\n",
    "print(f)"
   ]
  },
  {
   "cell_type": "code",
   "execution_count": 57,
   "id": "1e1bd121",
   "metadata": {},
   "outputs": [
    {
     "name": "stdout",
     "output_type": "stream",
     "text": [
      "(-1+0j)\n"
     ]
    }
   ],
   "source": [
    "c = 1j # 수학시간의 0+1i\n",
    "print(c**2) # **승연산자"
   ]
  },
  {
   "cell_type": "code",
   "execution_count": 59,
   "id": "20ffef11",
   "metadata": {},
   "outputs": [
    {
     "name": "stdout",
     "output_type": "stream",
     "text": [
      "지수형 표현할 당시 실수형으로 저장 : 1120000000000.0\n",
      "지수형 표현할 당시 실수형으로 저장 : 1.12e-12\n"
     ]
    }
   ],
   "source": [
    "f = 1.12e12 # 1.12의 10의 12승 : 1120000000000\n",
    "print('지수형 표현할 당시 실수형으로 저장 :', f)\n",
    "f = 1.12e-12 # 1.12의 10의 -12승 : 0.0000000000112\n",
    "print('지수형 표현할 당시 실수형으로 저장 :', f) # 소수점이 너무 길어서 아래와 같이 나옴."
   ]
  },
  {
   "cell_type": "markdown",
   "id": "fb8b92f1",
   "metadata": {},
   "source": [
    "# 3.2 문자형\n",
    "쌍따옴표(\" \") , 홀따옴표(' ') 둘다 사용 가능"
   ]
  },
  {
   "cell_type": "code",
   "execution_count": 70,
   "id": "083ac0d1",
   "metadata": {},
   "outputs": [
    {
     "name": "stdout",
     "output_type": "stream",
     "text": [
      "홍길동\"짱\" 서울시 관악구 \"신설동\"\n"
     ]
    }
   ],
   "source": [
    "name = \"홍길동\\\"짱\\\"\" # 홍길동\"짱\"\n",
    "name = '홍길동\"짱\"'\n",
    "address = '서울시 관악구 \\\"신설동\\\"' # \n",
    "address = '서울시 관악구 \"신설동\"'\n",
    "print(name, address)"
   ]
  },
  {
   "cell_type": "code",
   "execution_count": 68,
   "id": "20e452ed",
   "metadata": {},
   "outputs": [
    {
     "name": "stdout",
     "output_type": "stream",
     "text": [
      "여러줄 짜리 내용\n",
      "줄바꿈 문자를 쓰지 않고 따옴표 3개로 처리\n",
      "이처럼 쓰는 경우가 많음\n"
     ]
    }
   ],
   "source": [
    "# 문자형 변수 여러줄\n",
    "text = '''여러줄 짜리 내용\n",
    "줄바꿈 문자를 쓰지 않고 따옴표 3개로 처리\n",
    "이처럼 쓰는 경우가 많음'''\n",
    "print(text)"
   ]
  },
  {
   "cell_type": "markdown",
   "id": "d8c67194",
   "metadata": {},
   "source": [
    "### * 문자열 연산"
   ]
  },
  {
   "cell_type": "code",
   "execution_count": 73,
   "id": "cc5f1343",
   "metadata": {},
   "outputs": [
    {
     "name": "stdout",
     "output_type": "stream",
     "text": [
      "홍길동 동해 번쩍 서해 번쩍\n"
     ]
    }
   ],
   "source": [
    "'''\n",
    "    여러 줄 주석 용도\n",
    "    2025.04.08 문자열 연산 소스 by 아무개\n",
    "'''\n",
    "name1 = \"홍길동\"\n",
    "name2 = \" 동해 번쩍 서해 번쩍\"\n",
    "print(name1 + name2)"
   ]
  },
  {
   "cell_type": "code",
   "execution_count": 72,
   "id": "ec89b2b0",
   "metadata": {},
   "outputs": [
    {
     "name": "stdout",
     "output_type": "stream",
     "text": [
      "홍길동홍길동홍길동\n"
     ]
    }
   ],
   "source": [
    "print(name1 * 3) # 문자열을 곱하면 반복"
   ]
  },
  {
   "cell_type": "markdown",
   "id": "1630977f",
   "metadata": {},
   "source": [
    "## raw 데이터\n",
    "    - 용도 : 정규표현식 이용, 디렉토리의 경로 표현시 이용 (ex: /n)"
   ]
  },
  {
   "cell_type": "code",
   "execution_count": 78,
   "id": "0f2844fc",
   "metadata": {},
   "outputs": [
    {
     "name": "stdout",
     "output_type": "stream",
     "text": [
      "hello\\nWorld\n",
      "hello\\nWorld\n"
     ]
    }
   ],
   "source": [
    "print(r'hello\\nWorld') # 맨 앞에 r\n",
    "print('hello\\\\nWorld') # 중간에 \\\\ 2개"
   ]
  },
  {
   "cell_type": "markdown",
   "id": "0648ec82",
   "metadata": {},
   "source": [
    "정규표현식\n",
    "```(마크업 셀에서 백틱은 블록을 만들 때 사용)\n",
    "1. 참조 : 위키백과\n",
    "2. 간략한 문법 :\n",
    "    \\d (숫자와 매치, [0-9]와 동일\n",
    "    \\D (숫자가 아닌 것)\n",
    "    \\w (영문이나 숫자, [a-zA-Z]\n",
    "    \\W (영문자나 숫자가 아닌 문자)\n",
    "    .  (문자)\n",
    "    \\. (. 따옴표)\n",
    "    \\- (- 의미)\n",
    "    {2, 4} (2~4번 반복)\n",
    "    {4}    (4번 반복)\n",
    "    {2, }  (2번이상 반복)\n",
    "    +      (1번이상 반복)\n",
    "    =      (0번이상 반복)\n",
    "    ?      (없거나 1번 있거나)\n",
    "    \n",
    "3. 정규표현식\n",
    "    ex1. 전화번호 : 010-9999-9999 02-712-8888                       **[0-9] = \\d\n",
    "                   01099997777 0277778888                        \n",
    "                   02)741-5656 010 1234 1234 010.1234.1234      [0-9]{2,3}[\\-) .]?[0-9]{3,4}[\\- .]?[0-9]{4}\n",
    "                    \n",
    "    ex2. abc12@naver.com  abc123@to7.co.kr\n",
    "         abc@한국.com                                            \\w{3,}@[a-zA-Z0-9가-힣]+(\\.[a-zA-z]+){1,2}\n",
    "\n",
    "4. 소스 구현\n",
    "```\n",
    "    \n",
    "    "
   ]
  },
  {
   "cell_type": "code",
   "execution_count": 17,
   "id": "9625fab1",
   "metadata": {},
   "outputs": [
    {
     "name": "stdout",
     "output_type": "stream",
     "text": [
      "홍길동인데 전화번호가 02-888-8888, @@@@010 9999 9999 동해번쩍 서해번쩍 ㅋㅋ ㅠㅠ 오늘 날씨는 정말 좋아요\n"
     ]
    }
   ],
   "source": [
    "import re\n",
    "data = \"홍길동인데 전화번호가 02-888-8888, @@@@\\\n",
    "010 9999 9999 동해번쩍 서해번쩍 ㅋㅋ ㅠㅠ \\\n",
    "오늘 날씨는 정말 좋아요\"\n",
    "print(data)"
   ]
  },
  {
   "cell_type": "code",
   "execution_count": 2,
   "id": "1b19fffa",
   "metadata": {},
   "outputs": [],
   "source": [
    "tel_pattern = r\"[0-9]{2,3}[\\-) .]?[0-9]{3,4}[\\- .]?[0-9]{4}\""
   ]
  },
  {
   "cell_type": "code",
   "execution_count": 6,
   "id": "1b2369c5",
   "metadata": {},
   "outputs": [
    {
     "data": {
      "text/plain": [
       "['02-888-8888', '010 9999 9999']"
      ]
     },
     "execution_count": 6,
     "metadata": {},
     "output_type": "execute_result"
    }
   ],
   "source": [
    "tels = re.findall(tel_pattern, data)  # 해당 패턴을 전부 찾아줌. 만약 패턴이 없으면 [] 반환.\n",
    "tels   # 출력"
   ]
  },
  {
   "cell_type": "code",
   "execution_count": 11,
   "id": "594fc2f2",
   "metadata": {},
   "outputs": [
    {
     "data": {
      "text/plain": [
       "<re.Match object; span=(12, 23), match='02-888-8888'>"
      ]
     },
     "execution_count": 11,
     "metadata": {},
     "output_type": "execute_result"
    }
   ],
   "source": [
    "# search() : 정규표현식 패턴과 일치하는 처음단어만 찾음.\n",
    "pattern = \"(\\d{2,3})-(\\d{3,4})-(\\d{4})\"  # \" 다음 글자는 0번째 글자 / 마지막 글자는 마지막 문자 바로 앞\n",
    "firstTel = re.search(pattern, data)\n",
    "firstTel"
   ]
  },
  {
   "cell_type": "code",
   "execution_count": 13,
   "id": "165cb3a1",
   "metadata": {},
   "outputs": [
    {
     "data": {
      "text/plain": [
       "'02-888-8888'"
      ]
     },
     "execution_count": 13,
     "metadata": {},
     "output_type": "execute_result"
    }
   ],
   "source": [
    "data[12:23] #문자 슬라이싱"
   ]
  },
  {
   "cell_type": "code",
   "execution_count": 16,
   "id": "03e8c379",
   "metadata": {},
   "outputs": [
    {
     "name": "stdout",
     "output_type": "stream",
     "text": [
      "전화번호 전체 : 02-888-8888\n",
      "국번 : 02\n",
      "중간번호 : 888\n",
      "끝번호 : 8888\n"
     ]
    }
   ],
   "source": [
    "print('전화번호 전체 :', firstTel.group(0))\n",
    "print('국번 :', firstTel.group(1))\n",
    "print('중간번호 :', firstTel.group(2))\n",
    "print('끝번호 :', firstTel.group(3))"
   ]
  },
  {
   "cell_type": "code",
   "execution_count": 19,
   "id": "8d8dd8e6",
   "metadata": {},
   "outputs": [
    {
     "data": {
      "text/plain": [
       "'홍길동인데 전화번호가 028888888 010 9999 9999 동해번쩍 서해번쩍   오늘 날씨는 정말 좋아요'"
      ]
     },
     "execution_count": 19,
     "metadata": {},
     "output_type": "execute_result"
    }
   ],
   "source": [
    "re.sub(r'[^가-힣0-9\\s]+', '', data)  # 특수문자, 자음, 모음 없앤 문자 출력 / \\s = \\space(공백, 띄어쓰기)"
   ]
  },
  {
   "cell_type": "code",
   "execution_count": 23,
   "id": "67cc8d57",
   "metadata": {},
   "outputs": [],
   "source": [
    "# 파일 경로에는 반드시 r, \\\\, / 사용 (디렉터리 경로 문자)\n",
    "file_path = r\"C:\\ai_x\\source\\01_python\\test.txt\"\n",
    "file_path = \"C:\\\\ai_x\\\\source\\\\01_python\\\\test.txt\"\n",
    "file_path = \"C:/ai_x/source/01_python/test.txt\""
   ]
  },
  {
   "cell_type": "code",
   "execution_count": 25,
   "id": "06a58513",
   "metadata": {},
   "outputs": [
    {
     "name": "stdout",
     "output_type": "stream",
     "text": [
      "hello ~ world\n"
     ]
    }
   ],
   "source": [
    "file_stream = open(file_path, 'w')\n",
    "print('hello', \"world\", sep=\" ~ \") # 콘솔 출력\n",
    "print('hello', \"world\", sep=\" ~ \", file=file_stream)  # 파일 출력\n",
    "file_stream.close()"
   ]
  },
  {
   "cell_type": "markdown",
   "id": "af620997",
   "metadata": {},
   "source": [
    "### * 문자열 슬라이싱"
   ]
  },
  {
   "cell_type": "code",
   "execution_count": 27,
   "id": "cb81d2cc",
   "metadata": {},
   "outputs": [
    {
     "data": {
      "text/plain": [
       "'0123456789'"
      ]
     },
     "execution_count": 27,
     "metadata": {},
     "output_type": "execute_result"
    }
   ],
   "source": [
    "str_='0123456789'\n",
    "str_"
   ]
  },
  {
   "cell_type": "code",
   "execution_count": 29,
   "id": "2d5d6a1d",
   "metadata": {},
   "outputs": [
    {
     "data": {
      "text/plain": [
       "('0', '2', '9', '7')"
      ]
     },
     "execution_count": 29,
     "metadata": {},
     "output_type": "execute_result"
    }
   ],
   "source": [
    "# 문자 인덱싱\n",
    "str_[0], str_[2], str_[-1], str_[-3]"
   ]
  },
  {
   "cell_type": "code",
   "execution_count": 31,
   "id": "aede3b41",
   "metadata": {},
   "outputs": [
    {
     "ename": "IndexError",
     "evalue": "string index out of range",
     "output_type": "error",
     "traceback": [
      "\u001b[1;31m---------------------------------------------------------------------------\u001b[0m",
      "\u001b[1;31mIndexError\u001b[0m                                Traceback (most recent call last)",
      "Cell \u001b[1;32mIn[31], line 1\u001b[0m\n\u001b[1;32m----> 1\u001b[0m \u001b[43mstr_\u001b[49m\u001b[43m[\u001b[49m\u001b[38;5;241;43m20\u001b[39;49m\u001b[43m]\u001b[49m\n",
      "\u001b[1;31mIndexError\u001b[0m: string index out of range"
     ]
    }
   ],
   "source": [
    "str_[20]  # 없는 문자(순서) 인덱싱 error - 해당은 20번째 순서 문자 추출 없음"
   ]
  },
  {
   "cell_type": "code",
   "execution_count": null,
   "id": "3e4d914e",
   "metadata": {},
   "outputs": [],
   "source": [
    "'''\n",
    "* 0123456789\n",
    "문자 변수[from:stop] : from부터 stop '앞' 까지 추출\n",
    "문자 변수[from:stop:step] : from부터 stop 앞까지 step 씩 전진하면서 추출\n",
    "    step 생략시 1자리씩 생략\n",
    "    from 생략시 처음부터 의미\n",
    "    stop 생략시 끝까지 의미\n",
    "'''"
   ]
  },
  {
   "cell_type": "code",
   "execution_count": 35,
   "id": "a83ddbb9",
   "metadata": {},
   "outputs": [
    {
     "data": {
      "text/plain": [
       "'01234'"
      ]
     },
     "execution_count": 35,
     "metadata": {},
     "output_type": "execute_result"
    }
   ],
   "source": [
    "str_[0:5] # stop 생략한 상태 / 0번째 ~ 5번째 앞까지"
   ]
  },
  {
   "cell_type": "code",
   "execution_count": 38,
   "id": "86f30421",
   "metadata": {},
   "outputs": [
    {
     "data": {
      "text/plain": [
       "'5678'"
      ]
     },
     "execution_count": 38,
     "metadata": {},
     "output_type": "execute_result"
    }
   ],
   "source": [
    "str_[-5:-1] # -5번째부터 -1번째 앞까지"
   ]
  },
  {
   "cell_type": "code",
   "execution_count": 40,
   "id": "f7f0acb8",
   "metadata": {},
   "outputs": [
    {
     "data": {
      "text/plain": [
       "'6789'"
      ]
     },
     "execution_count": 40,
     "metadata": {},
     "output_type": "execute_result"
    }
   ],
   "source": [
    "str_[-4:] # 생략했으니 -4부터 끝까지"
   ]
  },
  {
   "cell_type": "code",
   "execution_count": 41,
   "id": "201fa9c2",
   "metadata": {},
   "outputs": [
    {
     "data": {
      "text/plain": [
       "'6789'"
      ]
     },
     "execution_count": 41,
     "metadata": {},
     "output_type": "execute_result"
    }
   ],
   "source": [
    "str_[-4:20] # 슬라이싱시 인덱스 범위(여기선 20) 벗어나면 끝까지를 의미"
   ]
  },
  {
   "cell_type": "code",
   "execution_count": 33,
   "id": "a5bc4a31",
   "metadata": {},
   "outputs": [
    {
     "data": {
      "text/plain": [
       "'0246'"
      ]
     },
     "execution_count": 33,
     "metadata": {},
     "output_type": "execute_result"
    }
   ],
   "source": [
    "str_[0:8:2] # 0번째 ~ 8번째 앞까지"
   ]
  },
  {
   "cell_type": "code",
   "execution_count": 42,
   "id": "2c964910",
   "metadata": {},
   "outputs": [
    {
     "data": {
      "text/plain": [
       "'987654321'"
      ]
     },
     "execution_count": 42,
     "metadata": {},
     "output_type": "execute_result"
    }
   ],
   "source": [
    "str_[9:0:-1]"
   ]
  },
  {
   "cell_type": "code",
   "execution_count": 58,
   "id": "55aef93a",
   "metadata": {},
   "outputs": [
    {
     "name": "stdout",
     "output_type": "stream",
     "text": [
      "012345\n",
      "56789\n",
      "9876543210\n"
     ]
    }
   ],
   "source": [
    "# 0123456789\n",
    "# 첫 문자 ~ 6번째 인덱스까지 추출\n",
    "print(str_[0:6])\n",
    "\n",
    "# 5번째 인덱스부터 ~ 끝까지 추출\n",
    "print(str_[5:])\n",
    "\n",
    "# str_를 거꾸로 추출\n",
    "print(str_[::-1])\n"
   ]
  },
  {
   "cell_type": "markdown",
   "id": "1c44dbf1",
   "metadata": {},
   "source": [
    "## 3.3 논리형 (True/False)"
   ]
  },
  {
   "cell_type": "code",
   "execution_count": 72,
   "id": "5851c01f",
   "metadata": {},
   "outputs": [
    {
     "name": "stdout",
     "output_type": "stream",
     "text": [
      "True\n",
      "<class 'bool'>\n",
      "True\n",
      "a 의 주소:  140725157251280\n",
      "b 의 주소:  140725157251280\n",
      "b 의 주소:  140725157251312\n"
     ]
    }
   ],
   "source": [
    "a = True\n",
    "print(a) # a : 매개변수=인자\n",
    "print(type(a)) # a 변수의 타입\n",
    "print(isinstance(a, bool)) # isinstance(변수, 타입) : 변수가 해당 타입입지 여부\n",
    "print('a 의 주소: ', id(a))\n",
    "b = True\n",
    "print('b 의 주소: ', id(b))  # 위에 a와 변수(True)가 같아 주소값이 같음\n",
    "b = False\n",
    "print('b 의 주소: ', id(b))  # 변수를 b에 새로(False) 할당하여 주소값이 변경됨."
   ]
  },
  {
   "cell_type": "code",
   "execution_count": 62,
   "id": "7cc33833",
   "metadata": {},
   "outputs": [
    {
     "data": {
      "text/plain": [
       "(1, 0)"
      ]
     },
     "execution_count": 62,
     "metadata": {},
     "output_type": "execute_result"
    }
   ],
   "source": [
    "int(True) , int(False)"
   ]
  },
  {
   "cell_type": "code",
   "execution_count": null,
   "id": "496db56d",
   "metadata": {},
   "outputs": [],
   "source": [
    "# False로 간주되는 것 : 0, ''(space 아닌 빈 스트링, 아무것도 없는거임). none , [], (), {}\n",
    "# False 외에 값은 전부 True \" \""
   ]
  },
  {
   "cell_type": "code",
   "execution_count": 67,
   "id": "37579a28",
   "metadata": {},
   "outputs": [
    {
     "name": "stdout",
     "output_type": "stream",
     "text": [
      "i가 부족\n"
     ]
    }
   ],
   "source": [
    "i = 4\n",
    "if i>5:\n",
    "    print('i가 큼')\n",
    "else:\n",
    "    print('i가 부족')"
   ]
  },
  {
   "cell_type": "code",
   "execution_count": 69,
   "id": "1d3322b3",
   "metadata": {},
   "outputs": [
    {
     "name": "stdout",
     "output_type": "stream",
     "text": [
      "False\n"
     ]
    }
   ],
   "source": [
    "if \"\":  # 다른 문자도 가능\n",
    "    print('True')\n",
    "else:\n",
    "    print('False')"
   ]
  },
  {
   "cell_type": "markdown",
   "id": "7abd9369",
   "metadata": {},
   "source": [
    "## 3.4 자료형 확인 및 형변환 함수\n",
    "- type(변수)\n",
    "- isinstance(변수, 타입)\n",
    "\n",
    "- int() : 정수형으로 변환\n",
    "- float() : 실수형으로 변환\n",
    "- str() : 문자형으로 변환\n",
    "- bool() : 논리형으로 변환  (true/false)"
   ]
  },
  {
   "cell_type": "code",
   "execution_count": 85,
   "id": "0b759249",
   "metadata": {},
   "outputs": [
    {
     "data": {
      "text/plain": [
       "(123, 123, 1, 10)"
      ]
     },
     "execution_count": 85,
     "metadata": {},
     "output_type": "execute_result"
    }
   ],
   "source": [
    "int('123'), int(123.9), int(True), int(\"10    \")  # 앞에 껀 문자, 뒤에껀 실수"
   ]
  },
  {
   "cell_type": "code",
   "execution_count": 78,
   "id": "805b460c",
   "metadata": {},
   "outputs": [
    {
     "data": {
      "text/plain": [
       "(123.5, 123.0, 1.0, 0.0, 123.0)"
      ]
     },
     "execution_count": 78,
     "metadata": {},
     "output_type": "execute_result"
    }
   ],
   "source": [
    "float(\"123.5\") , float(123) , float(True) , float(False) , float(\"123\")"
   ]
  },
  {
   "cell_type": "code",
   "execution_count": 81,
   "id": "b68a2bc2",
   "metadata": {},
   "outputs": [],
   "source": [
    "# int 함수 error 발생 문자\n",
    "# int(\"123.5\")\n",
    "# int(' ')\n",
    "# int('')\n",
    "# int(1,000)"
   ]
  },
  {
   "cell_type": "code",
   "execution_count": 83,
   "id": "0b9893ab",
   "metadata": {},
   "outputs": [
    {
     "ename": "ValueError",
     "evalue": "could not convert string to float: '1,000.0'",
     "output_type": "error",
     "traceback": [
      "\u001b[1;31m---------------------------------------------------------------------------\u001b[0m",
      "\u001b[1;31mValueError\u001b[0m                                Traceback (most recent call last)",
      "Cell \u001b[1;32mIn[83], line 2\u001b[0m\n\u001b[0;32m      1\u001b[0m \u001b[38;5;66;03m# float함수 error 발생 문자\u001b[39;00m\n\u001b[1;32m----> 2\u001b[0m \u001b[38;5;28;43mfloat\u001b[39;49m\u001b[43m(\u001b[49m\u001b[38;5;124;43m\"\u001b[39;49m\u001b[38;5;124;43m1,000.0\u001b[39;49m\u001b[38;5;124;43m\"\u001b[39;49m\u001b[43m)\u001b[49m\n",
      "\u001b[1;31mValueError\u001b[0m: could not convert string to float: '1,000.0'"
     ]
    }
   ],
   "source": [
    "# float함수 error 발생 문자\n",
    "# float(\"1,000.0\")\n",
    "# float(\"\")\n",
    "# float(\" \")"
   ]
  },
  {
   "cell_type": "code",
   "execution_count": 88,
   "id": "0ebb139a",
   "metadata": {},
   "outputs": [
    {
     "data": {
      "text/plain": [
       "('10', '10.5', 'True', '1120000000000.0')"
      ]
     },
     "execution_count": 88,
     "metadata": {},
     "output_type": "execute_result"
    }
   ],
   "source": [
    "str(10), str(10.5), str(True), str(1.12e12)"
   ]
  },
  {
   "cell_type": "code",
   "execution_count": 90,
   "id": "05a9b0a1",
   "metadata": {},
   "outputs": [
    {
     "data": {
      "text/plain": [
       "(False, False, False, False, False, False)"
      ]
     },
     "execution_count": 90,
     "metadata": {},
     "output_type": "execute_result"
    }
   ],
   "source": [
    "bool(\"\"), bool(0), bool(0.0), bool([]), bool({}), bool(None)"
   ]
  },
  {
   "cell_type": "code",
   "execution_count": 91,
   "id": "f9045377",
   "metadata": {},
   "outputs": [
    {
     "data": {
      "text/plain": [
       "True"
      ]
     },
     "execution_count": 91,
     "metadata": {},
     "output_type": "execute_result"
    }
   ],
   "source": [
    "bool(\" \")"
   ]
  },
  {
   "cell_type": "markdown",
   "id": "47712dec",
   "metadata": {},
   "source": [
    "파이썬 기본 자료형 (정리)\n",
    "1. 숫자 - int, float, complex\n",
    "2. 문자 - str, 문자슬라이싱, raw데이터(정규표현식, 파일경로)\n",
    "3. 논리 - False로 판별되는 경우"
   ]
  },
  {
   "cell_type": "markdown",
   "id": "3446c7bf",
   "metadata": {},
   "source": [
    "# 4절. 포맷팅\n",
    "- 포맷팅이란: 출력할 문자, 숫자, 날짜 데이터의 형식을 지정하는 것\n",
    "- 변수와 텍스트를 결합해서 보기 좋은 형식의 새로운 텍스트를 만들 수 있음.\n",
    "\n",
    "## 4.1 문자열의 출력형식 지정"
   ]
  },
  {
   "cell_type": "code",
   "execution_count": 96,
   "id": "cc20a249",
   "metadata": {},
   "outputs": [
    {
     "name": "stdout",
     "output_type": "stream",
     "text": [
      "홍길동님의 나이는 30살입니다\n"
     ]
    }
   ],
   "source": [
    "name = \"홍길동\"\n",
    "age = 30\n",
    "print(name, '님의 나이는 ', age, '살입니다', sep='')"
   ]
  },
  {
   "cell_type": "code",
   "execution_count": 107,
   "id": "9a43b434",
   "metadata": {},
   "outputs": [
    {
     "name": "stdout",
     "output_type": "stream",
     "text": [
      "홍길동님의 나이는  30살입니다\n",
      "홍길동님의 나이는 30살입니다.\n",
      "홍길동님의 나이는  30살입니다.\n"
     ]
    }
   ],
   "source": [
    "print(\"%s님의 나이는 %3d살입니다\" %(name , age)) # %s : 문자, %d: 정수 , %f : 실수\n",
    "print(f\"{name}님의 나이는 {age}살입니다.\")\n",
    "print(\"{}님의 나이는 {:3d}살입니다.\". format(name, age))"
   ]
  },
  {
   "cell_type": "markdown",
   "id": "97f5a5b4",
   "metadata": {},
   "source": [
    "## 4.2 format() 문법"
   ]
  },
  {
   "cell_type": "code",
   "execution_count": 116,
   "id": "1268c8b5",
   "metadata": {},
   "outputs": [],
   "source": [
    "    #\"{[인덱스]:[공백대체문자][정렬방식][자릿수][타입]}\".format(변수1, 변수2)\n",
    "    # 인덱스 : format 함수 안의 매개변수의 순서\n",
    "    # 정렬방식 : <(왼쪽정렬) , >(오른쪽정렬), ^(중앙정렬)\n",
    "    # 정수 자릿수 : 출력될 자릿수d. 변수 내용보다 작은 자릿수가 지정되면 자릿수 무시\n",
    "    # 실수 자릿수 : 출력될 자릿수. 소수점이하자릿수f\n",
    "    # 문자 자릿수 : 전체 확보될 자릿수 [변수 중 출력할 자릿수]s\n",
    "    # 타입 : d(10진수 정수), b(2진수), x(16진수), o(8진수), f(실수), s(문자)\n",
    "    # 공백대체문자를 쓸 경우 정렬방식을 반드시 기재."
   ]
  },
  {
   "cell_type": "code",
   "execution_count": 132,
   "id": "313f46c3",
   "metadata": {},
   "outputs": [
    {
     "name": "stdout",
     "output_type": "stream",
     "text": [
      "이름은?홍길동\n",
      "나이는?30\n",
      "30살 홍길동님 반갑습니다\n",
      "*30*살 홍길동_______반갑습니다\n"
     ]
    }
   ],
   "source": [
    "name = input('이름은?')\n",
    "age  = int(input('나이는?'))\n",
    "print(\"{}살 {}님 반갑습니다\".format(age, name))\n",
    "print(\"{1:*^4d}살 {0:_<10}반갑습니다\".format(name, age))"
   ]
  },
  {
   "cell_type": "code",
   "execution_count": 119,
   "id": "ff8409c2",
   "metadata": {},
   "outputs": [
    {
     "name": "stdout",
     "output_type": "stream",
     "text": [
      "[12345], [     12345], [12345]\n",
      "[hello], [hello     ], [hello]\n"
     ]
    }
   ],
   "source": [
    "# 숫자의 경우 : 오른쪽정렬(기본값)\n",
    "# 문자의 경우 : 왼쪽정렬(기본값)\n",
    "# 변수보다 작은 자리수를 지정하면 자릿수가 무시되고 다 출력(정수 자리수일 경우)\n",
    "i = 12345\n",
    "s = \"hello\"\n",
    "print(\"[{0}], [{0:10}], [{0:3}]\".format(i))\n",
    "print(\"[{0}], [{0:10}], [{0:3}]\".format(s))"
   ]
  },
  {
   "cell_type": "code",
   "execution_count": 127,
   "id": "a4d8e131",
   "metadata": {},
   "outputs": [
    {
     "name": "stdout",
     "output_type": "stream",
     "text": [
      "f=[$2.76]\n",
      "s=[he___]\n"
     ]
    }
   ],
   "source": [
    "# 정수 : 전체자리수. 표현될자리수\n",
    "# 실수 : 전체자리수. 소수점이하 표현될 자리수\n",
    "f = 2.758\n",
    "s = \"hello\"\n",
    "print(\"f=[{:$>5.2f}]\". format(f))\n",
    "print(\"s=[{:_<5.2}]\". format(s))"
   ]
  },
  {
   "cell_type": "code",
   "execution_count": 138,
   "id": "18decafb",
   "metadata": {},
   "outputs": [
    {
     "name": "stdout",
     "output_type": "stream",
     "text": [
      "[  123], [ -123]\n",
      "[ +123], [ -123]\n",
      "[+ 123], [- 123]\n"
     ]
    }
   ],
   "source": [
    "#  + : 부호를 출력\n",
    "#  = : 부호를 맨 앞에 출력\n",
    "a, b = 123, -123\n",
    "print(\"[{:5}], [{:5}]\". format(a,b))\n",
    "print(\"[{:+5}], [{:+5}]\". format(a,b))\n",
    "print(\"[{:=+5}], [{:=+5}]\". format(a,b))"
   ]
  },
  {
   "cell_type": "code",
   "execution_count": 140,
   "id": "cf76c977",
   "metadata": {},
   "outputs": [
    {
     "name": "stdout",
     "output_type": "stream",
     "text": [
      "[     +2.79]\n"
     ]
    }
   ],
   "source": [
    "#\n",
    "f = 2.785\n",
    "print(\"[{:+10.3}]\". format(f))"
   ]
  },
  {
   "cell_type": "code",
   "execution_count": null,
   "id": "33631c5b",
   "metadata": {},
   "outputs": [],
   "source": [
    "sign = '+'\n",
    "width = 10\n",
    "precision = 2\n",
    "print(\"[{:+10.3}]\". format(f))"
   ]
  },
  {
   "cell_type": "code",
   "execution_count": null,
   "id": "8f8797eb",
   "metadata": {},
   "outputs": [],
   "source": []
  },
  {
   "cell_type": "code",
   "execution_count": null,
   "id": "70a9d4be",
   "metadata": {},
   "outputs": [],
   "source": []
  },
  {
   "cell_type": "code",
   "execution_count": null,
   "id": "afbf4617",
   "metadata": {},
   "outputs": [],
   "source": []
  },
  {
   "cell_type": "markdown",
   "id": "32263ecf",
   "metadata": {},
   "source": [
    "## 4.3 날짜출력"
   ]
  },
  {
   "cell_type": "code",
   "execution_count": 142,
   "id": "73680026",
   "metadata": {},
   "outputs": [
    {
     "data": {
      "text/plain": [
       "datetime.datetime(2025, 4, 9, 17, 45, 1, 364282)"
      ]
     },
     "execution_count": 142,
     "metadata": {},
     "output_type": "execute_result"
    }
   ],
   "source": [
    "import re\n",
    "from datetime import datetime\n",
    "now = datetime.now()\n",
    "now"
   ]
  },
  {
   "cell_type": "code",
   "execution_count": 154,
   "id": "c0df7ccf",
   "metadata": {},
   "outputs": [
    {
     "name": "stdout",
     "output_type": "stream",
     "text": [
      "2025-04-09 17:45:01.364282\n",
      "2025년04월09일 PM 05시 45분 01초\n",
      "2025년04월09일 17시 45분 01초\n"
     ]
    }
   ],
   "source": [
    "print(\"{}\". format(now))\n",
    "print(\"{:%Y년%m월%d일 %p %I시 %M분 %S초}\". format(now))\n",
    "print(\"{:%Y년%m월%d일 %H시 %M분 %S초}\". format(now))"
   ]
  },
  {
   "cell_type": "code",
   "execution_count": 152,
   "id": "883e1270",
   "metadata": {},
   "outputs": [
    {
     "data": {
      "text/plain": [
       "'2025년04월09일 17시 45분 01초'"
      ]
     },
     "execution_count": 152,
     "metadata": {},
     "output_type": "execute_result"
    }
   ],
   "source": [
    "now.strftime(\"%Y년%m월%d일 %H시 %M분 %S초\")"
   ]
  },
  {
   "cell_type": "code",
   "execution_count": null,
   "id": "89fc81ce",
   "metadata": {},
   "outputs": [],
   "source": []
  }
 ],
 "metadata": {
  "kernelspec": {
   "display_name": "Python 3 (ipykernel)",
   "language": "python",
   "name": "python3"
  },
  "language_info": {
   "codemirror_mode": {
    "name": "ipython",
    "version": 3
   },
   "file_extension": ".py",
   "mimetype": "text/x-python",
   "name": "python",
   "nbconvert_exporter": "python",
   "pygments_lexer": "ipython3",
   "version": "3.10.9"
  },
  "toc": {
   "base_numbering": 1,
   "nav_menu": {},
   "number_sections": false,
   "sideBar": true,
   "skip_h1_title": false,
   "title_cell": "Table of Contents",
   "title_sidebar": "Contents",
   "toc_cell": false,
   "toc_position": {
    "height": "calc(100% - 180px)",
    "left": "10px",
    "top": "150px",
    "width": "165px"
   },
   "toc_section_display": true,
   "toc_window_display": true
  }
 },
 "nbformat": 4,
 "nbformat_minor": 5
}
